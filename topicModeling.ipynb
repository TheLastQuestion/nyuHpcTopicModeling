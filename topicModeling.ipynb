{
 "cells": [
  {
   "cell_type": "code",
   "execution_count": 1,
   "metadata": {},
   "outputs": [],
   "source": [
    "import time\n",
    "nb_start_time = time.time()\n",
    "\n",
    "import pandas as pd\n",
    "import numpy as np\n",
    "from urllib.request import urlopen\n",
    "from zipfile import ZipFile\n",
    "from io import BytesIO\n",
    "\n",
    "from sklearn.feature_extraction.text import CountVectorizer, TfidfTransformer\n",
    "from sklearn.decomposition import LatentDirichletAllocation"
   ]
  },
  {
   "cell_type": "code",
   "execution_count": 2,
   "metadata": {},
   "outputs": [
    {
     "data": {
      "text/plain": [
       "'/Users/bryant/Documents/nyuHpcTopicModeling'"
      ]
     },
     "execution_count": 2,
     "metadata": {},
     "output_type": "execute_result"
    }
   ],
   "source": [
    "# working on Prince or locally?\n",
    "%pwd"
   ]
  },
  {
   "cell_type": "code",
   "execution_count": 3,
   "metadata": {},
   "outputs": [
    {
     "name": "stderr",
     "output_type": "stream",
     "text": [
      "/Users/bryant/anaconda3/lib/python3.7/site-packages/IPython/core/interactiveshell.py:3020: DtypeWarning: Columns (13) have mixed types. Specify dtype option on import or set low_memory=False.\n",
      "  interactivity=interactivity, compiler=compiler, result=result)\n"
     ]
    },
    {
     "name": "stdout",
     "output_type": "stream",
     "text": [
      "\n",
      "\n",
      "00:00:45\n"
     ]
    }
   ],
   "source": [
    "# read in data\n",
    "start_time = time.time()\n",
    "\n",
    "file = 'mergedProjectsAbstracts.csv'\n",
    "df = (pd.read_csv(file,skipinitialspace=True,encoding='utf-8',\n",
    "                 dtype={'PROJECT_ID': object,\n",
    "                        'PROJECT_TERMS': object,\n",
    "                        'PROJECT_TITLE': object,\n",
    "                        'DEPARTMENT': str,\n",
    "                        'AGENCY': str,\n",
    "                        'PROJECT_START_DATE': str,\n",
    "                        'PROJECT_END_DATE': str,\n",
    "                        'ORGANIZATION_CITY': str,\n",
    "                        'CFDA_CODE': str,\n",
    "                        'FY': int,\n",
    "                        'FY_TOTAL_COST': float,\n",
    "                        'FY_TOTAL_COST_SUB_PROJECTS': float                     \n",
    "                       }))\n",
    "\n",
    "print('\\n')\n",
    "elapsed_time = time.time() - start_time\n",
    "print(time.strftime(\"%H:%M:%S\", time.gmtime(elapsed_time)))"
   ]
  },
  {
   "cell_type": "code",
   "execution_count": 4,
   "metadata": {},
   "outputs": [
    {
     "name": "stdout",
     "output_type": "stream",
     "text": [
      "(1040239, 26)\n",
      "(1032895, 26)\n"
     ]
    }
   ],
   "source": [
    "# drop if abstract missing\n",
    "df_nomiss = df[df.ABSTRACT.notnull()]\n",
    "print(df.shape)\n",
    "print(df_nomiss.shape)"
   ]
  },
  {
   "cell_type": "code",
   "execution_count": 5,
   "metadata": {},
   "outputs": [],
   "source": [
    "# subset for testing, otherwise leave commented\n",
    "df_modeling = df_nomiss[:5000] # 1x"
   ]
  },
  {
   "cell_type": "code",
   "execution_count": 6,
   "metadata": {},
   "outputs": [],
   "source": [
    "# define our vectorizer\n",
    "my_vectorizer = CountVectorizer(max_df=0.10,\n",
    "                                  min_df=0.005,\n",
    "                                  ngram_range = (0,2))"
   ]
  },
  {
   "cell_type": "code",
   "execution_count": 7,
   "metadata": {},
   "outputs": [
    {
     "name": "stderr",
     "output_type": "stream",
     "text": [
      "/Users/bryant/anaconda3/lib/python3.7/site-packages/sklearn/decomposition/online_lda.py:314: DeprecationWarning: n_topics has been renamed to n_components in version 0.19 and will be removed in 0.21\n",
      "  DeprecationWarning)\n"
     ]
    },
    {
     "name": "stdout",
     "output_type": "stream",
     "text": [
      "00:00:32\n"
     ]
    },
    {
     "name": "stderr",
     "output_type": "stream",
     "text": [
      "/Users/bryant/anaconda3/lib/python3.7/site-packages/ipykernel_launcher.py:23: SettingWithCopyWarning: \n",
      "A value is trying to be set on a copy of a slice from a DataFrame.\n",
      "Try using .loc[row_indexer,col_indexer] = value instead\n",
      "\n",
      "See the caveats in the documentation: http://pandas.pydata.org/pandas-docs/stable/indexing.html#indexing-view-versus-copy\n",
      "/Users/bryant/anaconda3/lib/python3.7/site-packages/ipykernel_launcher.py:24: SettingWithCopyWarning: \n",
      "A value is trying to be set on a copy of a slice from a DataFrame.\n",
      "Try using .loc[row_indexer,col_indexer] = value instead\n",
      "\n",
      "See the caveats in the documentation: http://pandas.pydata.org/pandas-docs/stable/indexing.html#indexing-view-versus-copy\n"
     ]
    }
   ],
   "source": [
    "start_time = time.time()\n",
    "\n",
    "# set up\n",
    "corpus = df_modeling.ABSTRACT\n",
    "\n",
    "# vectorize\n",
    "doc_term_matrix = my_vectorizer.fit_transform(corpus)\n",
    "doc_term_features = my_vectorizer.get_feature_names()\n",
    "\n",
    "# run LDA\n",
    "LDA = LatentDirichletAllocation(n_topics=5, random_state=1)  \n",
    "LDA.fit(doc_term_matrix)\n",
    "\n",
    "# initialize list for topics\n",
    "topicList = []\n",
    "for i,topic in enumerate(LDA.components_):\n",
    "    ithTopic = [doc_term_features[i] for i in topic.argsort()[-20:]]\n",
    "    topicList.append(ithTopic)\n",
    "topicListDf = pd.DataFrame(topicList)\n",
    "\n",
    "# matrix where each row is an abstract, each column a topic. Each cell is value of that topic for that abstract.\n",
    "topic_values = LDA.transform(doc_term_matrix)\n",
    "\n",
    "# save each project's most relevant topic in a new variable, and its valence in a further variable\n",
    "df_modeling['primeTopicId'] = topic_values.argmax(axis=1)\n",
    "df_modeling['primeTopicValence'] = topic_values.max(axis=1)\n",
    "\n",
    "elapsed_time = time.time() - start_time\n",
    "print(time.strftime(\"%H:%M:%S\", time.gmtime(elapsed_time)))"
   ]
  },
  {
   "cell_type": "code",
   "execution_count": 8,
   "metadata": {},
   "outputs": [
    {
     "data": {
      "text/html": [
       "<div>\n",
       "<style scoped>\n",
       "    .dataframe tbody tr th:only-of-type {\n",
       "        vertical-align: middle;\n",
       "    }\n",
       "\n",
       "    .dataframe tbody tr th {\n",
       "        vertical-align: top;\n",
       "    }\n",
       "\n",
       "    .dataframe thead th {\n",
       "        text-align: right;\n",
       "    }\n",
       "</style>\n",
       "<table border=\"1\" class=\"dataframe\">\n",
       "  <thead>\n",
       "    <tr style=\"text-align: right;\">\n",
       "      <th></th>\n",
       "      <th>Unnamed: 0</th>\n",
       "      <th>PROJECT_ID</th>\n",
       "      <th>PROJECT_TERMS</th>\n",
       "      <th>PROJECT_TITLE</th>\n",
       "      <th>DEPARTMENT</th>\n",
       "      <th>AGENCY</th>\n",
       "      <th>IC_CENTER</th>\n",
       "      <th>PROJECT_NUMBER</th>\n",
       "      <th>PROJECT_START_DATE</th>\n",
       "      <th>PROJECT_END_DATE</th>\n",
       "      <th>...</th>\n",
       "      <th>ORGANIZATION_COUNTRY</th>\n",
       "      <th>BUDGET_START_DATE</th>\n",
       "      <th>BUDGET_END_DATE</th>\n",
       "      <th>CFDA_CODE</th>\n",
       "      <th>FY</th>\n",
       "      <th>FY_TOTAL_COST</th>\n",
       "      <th>FY_TOTAL_COST_SUB_PROJECTS</th>\n",
       "      <th>ABSTRACT</th>\n",
       "      <th>primeTopicId</th>\n",
       "      <th>primeTopicValence</th>\n",
       "    </tr>\n",
       "  </thead>\n",
       "  <tbody>\n",
       "    <tr>\n",
       "      <th>0</th>\n",
       "      <td>0</td>\n",
       "      <td>1098983</td>\n",
       "      <td>Deposition; design; experimental study; Hydroc...</td>\n",
       "      <td>COMBUSTION CHAMBER DEPOSIT EFFECTS ON ENGINE H...</td>\n",
       "      <td>EPA</td>\n",
       "      <td>EPA</td>\n",
       "      <td>NaN</td>\n",
       "      <td>R824970C002</td>\n",
       "      <td>1/1/2000</td>\n",
       "      <td>6/30/1997</td>\n",
       "      <td>...</td>\n",
       "      <td>NaN</td>\n",
       "      <td>NaN</td>\n",
       "      <td>NaN</td>\n",
       "      <td>NaN</td>\n",
       "      <td>2000</td>\n",
       "      <td>496012.0</td>\n",
       "      <td>NaN</td>\n",
       "      <td>(1) To design a carefully-controlled experimen...</td>\n",
       "      <td>0</td>\n",
       "      <td>0.553078</td>\n",
       "    </tr>\n",
       "    <tr>\n",
       "      <th>1</th>\n",
       "      <td>1</td>\n",
       "      <td>1098991</td>\n",
       "      <td>Aerosols; Air Pollution; Atmosphere; Chemicals...</td>\n",
       "      <td>EXPERIMENTAL INVESTIGATION OF THE EVOLUTION OF...</td>\n",
       "      <td>EPA</td>\n",
       "      <td>EPA</td>\n",
       "      <td>NaN</td>\n",
       "      <td>R824970C010</td>\n",
       "      <td>1/1/2000</td>\n",
       "      <td>5/31/1998</td>\n",
       "      <td>...</td>\n",
       "      <td>NaN</td>\n",
       "      <td>NaN</td>\n",
       "      <td>NaN</td>\n",
       "      <td>NaN</td>\n",
       "      <td>2000</td>\n",
       "      <td>75000.0</td>\n",
       "      <td>NaN</td>\n",
       "      <td>The purpose of this research project is to con...</td>\n",
       "      <td>0</td>\n",
       "      <td>0.876265</td>\n",
       "    </tr>\n",
       "    <tr>\n",
       "      <th>2</th>\n",
       "      <td>2</td>\n",
       "      <td>1098989</td>\n",
       "      <td>Alcohols; Chemistry; Ethers; Experimental Mode...</td>\n",
       "      <td>FUNDAMENTAL STUDY ON HIGH TEMPERATURE CHEMISTR...</td>\n",
       "      <td>EPA</td>\n",
       "      <td>EPA</td>\n",
       "      <td>NaN</td>\n",
       "      <td>R824970C008</td>\n",
       "      <td>1/1/2000</td>\n",
       "      <td>12/31/1995</td>\n",
       "      <td>...</td>\n",
       "      <td>NaN</td>\n",
       "      <td>NaN</td>\n",
       "      <td>NaN</td>\n",
       "      <td>NaN</td>\n",
       "      <td>2000</td>\n",
       "      <td>265605.0</td>\n",
       "      <td>NaN</td>\n",
       "      <td>Experimental and modeling studies are performe...</td>\n",
       "      <td>4</td>\n",
       "      <td>0.707042</td>\n",
       "    </tr>\n",
       "    <tr>\n",
       "      <th>3</th>\n",
       "      <td>3</td>\n",
       "      <td>1098997</td>\n",
       "      <td>Air; Biological; Carbon; Chemicals; Gases; Liq...</td>\n",
       "      <td>INTEGRATING MODELS FOR PREDICTING POLLUTION TR...</td>\n",
       "      <td>EPA</td>\n",
       "      <td>EPA</td>\n",
       "      <td>NaN</td>\n",
       "      <td>R825370C005</td>\n",
       "      <td>1/1/2000</td>\n",
       "      <td>1/1/2000</td>\n",
       "      <td>...</td>\n",
       "      <td>NaN</td>\n",
       "      <td>NaN</td>\n",
       "      <td>NaN</td>\n",
       "      <td>NaN</td>\n",
       "      <td>2000</td>\n",
       "      <td>NaN</td>\n",
       "      <td>NaN</td>\n",
       "      <td>The objective of this project is to develop a ...</td>\n",
       "      <td>4</td>\n",
       "      <td>0.763460</td>\n",
       "    </tr>\n",
       "    <tr>\n",
       "      <th>4</th>\n",
       "      <td>4</td>\n",
       "      <td>1099005</td>\n",
       "      <td>Area; base; Emerging Technologies; Formulation...</td>\n",
       "      <td>ENVIRONMENTAL ASPECTS OF POLYMER FORMULATIONS</td>\n",
       "      <td>EPA</td>\n",
       "      <td>EPA</td>\n",
       "      <td>NaN</td>\n",
       "      <td>R825370C013</td>\n",
       "      <td>1/1/2000</td>\n",
       "      <td>1/1/2000</td>\n",
       "      <td>...</td>\n",
       "      <td>NaN</td>\n",
       "      <td>NaN</td>\n",
       "      <td>NaN</td>\n",
       "      <td>NaN</td>\n",
       "      <td>2000</td>\n",
       "      <td>NaN</td>\n",
       "      <td>NaN</td>\n",
       "      <td>An objective of this project is a survey and d...</td>\n",
       "      <td>4</td>\n",
       "      <td>0.983181</td>\n",
       "    </tr>\n",
       "  </tbody>\n",
       "</table>\n",
       "<p>5 rows × 28 columns</p>\n",
       "</div>"
      ],
      "text/plain": [
       "   Unnamed: 0 PROJECT_ID                                      PROJECT_TERMS  \\\n",
       "0           0    1098983  Deposition; design; experimental study; Hydroc...   \n",
       "1           1    1098991  Aerosols; Air Pollution; Atmosphere; Chemicals...   \n",
       "2           2    1098989  Alcohols; Chemistry; Ethers; Experimental Mode...   \n",
       "3           3    1098997  Air; Biological; Carbon; Chemicals; Gases; Liq...   \n",
       "4           4    1099005  Area; base; Emerging Technologies; Formulation...   \n",
       "\n",
       "                                       PROJECT_TITLE DEPARTMENT AGENCY  \\\n",
       "0  COMBUSTION CHAMBER DEPOSIT EFFECTS ON ENGINE H...        EPA    EPA   \n",
       "1  EXPERIMENTAL INVESTIGATION OF THE EVOLUTION OF...        EPA    EPA   \n",
       "2  FUNDAMENTAL STUDY ON HIGH TEMPERATURE CHEMISTR...        EPA    EPA   \n",
       "3  INTEGRATING MODELS FOR PREDICTING POLLUTION TR...        EPA    EPA   \n",
       "4      ENVIRONMENTAL ASPECTS OF POLYMER FORMULATIONS        EPA    EPA   \n",
       "\n",
       "  IC_CENTER PROJECT_NUMBER PROJECT_START_DATE PROJECT_END_DATE  \\\n",
       "0       NaN    R824970C002           1/1/2000        6/30/1997   \n",
       "1       NaN    R824970C010           1/1/2000        5/31/1998   \n",
       "2       NaN    R824970C008           1/1/2000       12/31/1995   \n",
       "3       NaN    R825370C005           1/1/2000         1/1/2000   \n",
       "4       NaN    R825370C013           1/1/2000         1/1/2000   \n",
       "\n",
       "         ...        ORGANIZATION_COUNTRY BUDGET_START_DATE  BUDGET_END_DATE  \\\n",
       "0        ...                         NaN               NaN              NaN   \n",
       "1        ...                         NaN               NaN              NaN   \n",
       "2        ...                         NaN               NaN              NaN   \n",
       "3        ...                         NaN               NaN              NaN   \n",
       "4        ...                         NaN               NaN              NaN   \n",
       "\n",
       "  CFDA_CODE    FY FY_TOTAL_COST FY_TOTAL_COST_SUB_PROJECTS  \\\n",
       "0       NaN  2000      496012.0                        NaN   \n",
       "1       NaN  2000       75000.0                        NaN   \n",
       "2       NaN  2000      265605.0                        NaN   \n",
       "3       NaN  2000           NaN                        NaN   \n",
       "4       NaN  2000           NaN                        NaN   \n",
       "\n",
       "                                            ABSTRACT primeTopicId  \\\n",
       "0  (1) To design a carefully-controlled experimen...            0   \n",
       "1  The purpose of this research project is to con...            0   \n",
       "2  Experimental and modeling studies are performe...            4   \n",
       "3  The objective of this project is to develop a ...            4   \n",
       "4  An objective of this project is a survey and d...            4   \n",
       "\n",
       "  primeTopicValence  \n",
       "0          0.553078  \n",
       "1          0.876265  \n",
       "2          0.707042  \n",
       "3          0.763460  \n",
       "4          0.983181  \n",
       "\n",
       "[5 rows x 28 columns]"
      ]
     },
     "execution_count": 8,
     "metadata": {},
     "output_type": "execute_result"
    }
   ],
   "source": [
    "df_modeling.head()"
   ]
  },
  {
   "cell_type": "code",
   "execution_count": 10,
   "metadata": {},
   "outputs": [
    {
     "data": {
      "text/plain": [
       "3    1603\n",
       "0    1196\n",
       "4    1014\n",
       "1     837\n",
       "2     350\n",
       "Name: primeTopicId, dtype: int64"
      ]
     },
     "execution_count": 10,
     "metadata": {},
     "output_type": "execute_result"
    }
   ],
   "source": [
    "df_modeling.primeTopicId.value_counts()"
   ]
  },
  {
   "cell_type": "code",
   "execution_count": 11,
   "metadata": {},
   "outputs": [
    {
     "data": {
      "text/plain": [
       "['stem',\n",
       " 'university of',\n",
       " 'educational',\n",
       " 'computer',\n",
       " 'researchers',\n",
       " 'research and',\n",
       " 'student',\n",
       " 'public',\n",
       " 'undergraduate',\n",
       " 'engineering',\n",
       " 'materials',\n",
       " 'programs',\n",
       " 'scientific',\n",
       " 'activities',\n",
       " 'training',\n",
       " 'graduate',\n",
       " 'social',\n",
       " 'school',\n",
       " 'center',\n",
       " 'learning']"
      ]
     },
     "execution_count": 11,
     "metadata": {},
     "output_type": "execute_result"
    }
   ],
   "source": [
    "# what does the top topic consist of?\n",
    "topicList[3]"
   ]
  },
  {
   "cell_type": "code",
   "execution_count": null,
   "metadata": {},
   "outputs": [],
   "source": []
  }
 ],
 "metadata": {
  "kernelspec": {
   "display_name": "Python 3",
   "language": "python",
   "name": "python3"
  },
  "language_info": {
   "codemirror_mode": {
    "name": "ipython",
    "version": 3
   },
   "file_extension": ".py",
   "mimetype": "text/x-python",
   "name": "python",
   "nbconvert_exporter": "python",
   "pygments_lexer": "ipython3",
   "version": "3.7.1"
  }
 },
 "nbformat": 4,
 "nbformat_minor": 2
}

{
 "cells": [
  {
   "cell_type": "code",
   "execution_count": 1,
   "metadata": {
    "collapsed": true
   },
   "outputs": [],
   "source": [
    "import time\n",
    "nb_start_time = time.time()\n",
    "\n",
    "import pandas as pd\n",
    "import numpy as np\n",
    "from urllib.request import urlopen\n",
    "from zipfile import ZipFile\n",
    "from io import BytesIO\n",
    "\n",
    "from sklearn.feature_extraction.text import CountVectorizer, TfidfTransformer\n",
    "from sklearn.decomposition import LatentDirichletAllocation"
   ]
  },
  {
   "cell_type": "code",
   "execution_count": 2,
   "metadata": {
    "collapsed": false
   },
   "outputs": [
    {
     "data": {
      "text/plain": [
       "'/scratch/bdr299/myjupyter'"
      ]
     },
     "execution_count": 2,
     "metadata": {},
     "output_type": "execute_result"
    }
   ],
   "source": [
    "# working on Prince or locally?\n",
    "%pwd"
   ]
  },
  {
   "cell_type": "code",
   "execution_count": 3,
   "metadata": {
    "collapsed": false
   },
   "outputs": [
    {
     "name": "stderr",
     "output_type": "stream",
     "text": [
      "/share/apps/python3/3.5.3/intel/lib/python3.5/site-packages/IPython/core/interactiveshell.py:2717: DtypeWarning: Columns (12,20) have mixed types. Specify dtype option on import or set low_memory=False.\n",
      "  interactivity=interactivity, compiler=compiler, result=result)\n"
     ]
    }
   ],
   "source": [
    "# bring in project data\n",
    "z = urlopen('https://federalreporter.nih.gov/FileDownload/DownloadFile?fileToDownload=FedRePORTER_PRJ_C_FY2009.zip')\n",
    "zipProjects = ZipFile(BytesIO(z.read())).extract('FedRePORTER_PRJ_C_FY2009.csv')\n",
    "pr_09 = pd.read_csv(zipProjects, skipinitialspace=True, encoding='utf-8')"
   ]
  },
  {
   "cell_type": "code",
   "execution_count": 4,
   "metadata": {
    "collapsed": false
   },
   "outputs": [],
   "source": [
    "# bring in abstracts data\n",
    "z = urlopen('https://federalreporter.nih.gov/FileDownload/DownloadFile?fileToDownload=FedRePORTER_PRJABS_C_FY2009.zip')\n",
    "zipAbstracts = ZipFile(BytesIO(z.read())).extract('FedRePORTER_PRJABS_C_FY2009.csv')\n",
    "ab_09 = pd.read_csv(zipAbstracts, skipinitialspace=True, encoding='utf-8')"
   ]
  },
  {
   "cell_type": "code",
   "execution_count": 5,
   "metadata": {
    "collapsed": true
   },
   "outputs": [],
   "source": [
    "# merge projects and abstracts by PROJECT_ID\n",
    "merged_09 = pd.merge(pr_09, ab_09, on='PROJECT_ID')\n",
    "\n",
    "# drop if abstract missing\n",
    "merged_09 = merged_09[merged_09.ABSTRACT.notnull()]"
   ]
  },
  {
   "cell_type": "code",
   "execution_count": 6,
   "metadata": {
    "collapsed": false
   },
   "outputs": [],
   "source": [
    "my_vectorizer = CountVectorizer(max_df=0.10,\n",
    "                                  min_df=0.005,\n",
    "                                  ngram_range = (0,2))"
   ]
  },
  {
   "cell_type": "code",
   "execution_count": 7,
   "metadata": {
    "collapsed": false
   },
   "outputs": [
    {
     "name": "stderr",
     "output_type": "stream",
     "text": [
      "/share/apps/python3/3.5.3/intel/lib/python3.5/site-packages/sklearn/decomposition/online_lda.py:508: DeprecationWarning: The default value for 'learning_method' will be changed from 'online' to 'batch' in the release 0.20. This warning was introduced in 0.18.\n",
      "  DeprecationWarning)\n"
     ]
    },
    {
     "name": "stdout",
     "output_type": "stream",
     "text": [
      "00:00:08\n"
     ]
    },
    {
     "name": "stderr",
     "output_type": "stream",
     "text": [
      "/share/apps/python3/3.5.3/intel/lib/python3.5/site-packages/ipykernel/__main__.py:24: SettingWithCopyWarning: \n",
      "A value is trying to be set on a copy of a slice from a DataFrame.\n",
      "Try using .loc[row_indexer,col_indexer] = value instead\n",
      "\n",
      "See the caveats in the documentation: http://pandas.pydata.org/pandas-docs/stable/indexing.html#indexing-view-versus-copy\n",
      "/share/apps/python3/3.5.3/intel/lib/python3.5/site-packages/ipykernel/__main__.py:25: SettingWithCopyWarning: \n",
      "A value is trying to be set on a copy of a slice from a DataFrame.\n",
      "Try using .loc[row_indexer,col_indexer] = value instead\n",
      "\n",
      "See the caveats in the documentation: http://pandas.pydata.org/pandas-docs/stable/indexing.html#indexing-view-versus-copy\n"
     ]
    }
   ],
   "source": [
    "start_time = time.time()\n",
    "\n",
    "# set up\n",
    "df_modeling = merged_09[:500] # 1x\n",
    "corpus = df_modeling.ABSTRACT\n",
    "\n",
    "# vectorize\n",
    "doc_term_matrix = my_vectorizer.fit_transform(corpus)\n",
    "doc_term_features = my_vectorizer.get_feature_names()\n",
    "\n",
    "# run LDA\n",
    "LDA = LatentDirichletAllocation(n_topics=50, random_state=1)  \n",
    "LDA.fit(doc_term_matrix)\n",
    "\n",
    "# initialize list for topics\n",
    "topicList = []\n",
    "for i,topic in enumerate(LDA.components_):\n",
    "    ithTopic = [doc_term_features[i] for i in topic.argsort()[-20:]]\n",
    "    topicList.append(ithTopic)\n",
    "topicListDf = pd.DataFrame(topicList)\n",
    "\n",
    "# matrix where each row is an abstract, each column a topic. Each cell is value of that topic for that abstract.\n",
    "topic_values = LDA.transform(doc_term_matrix)  \n",
    "df_modeling['primeTopicId'] = topic_values.argmax(axis=1)\n",
    "df_modeling['primeTopicValence'] = topic_values.max(axis=1)\n",
    "\n",
    "elapsed_time = time.time() - start_time\n",
    "print(time.strftime(\"%H:%M:%S\", time.gmtime(elapsed_time)))"
   ]
  },
  {
   "cell_type": "code",
   "execution_count": 8,
   "metadata": {
    "collapsed": false
   },
   "outputs": [
    {
     "name": "stderr",
     "output_type": "stream",
     "text": [
      "/share/apps/python3/3.5.3/intel/lib/python3.5/site-packages/sklearn/decomposition/online_lda.py:508: DeprecationWarning: The default value for 'learning_method' will be changed from 'online' to 'batch' in the release 0.20. This warning was introduced in 0.18.\n",
      "  DeprecationWarning)\n"
     ]
    },
    {
     "name": "stdout",
     "output_type": "stream",
     "text": [
      "00:00:15\n"
     ]
    },
    {
     "name": "stderr",
     "output_type": "stream",
     "text": [
      "/share/apps/python3/3.5.3/intel/lib/python3.5/site-packages/ipykernel/__main__.py:24: SettingWithCopyWarning: \n",
      "A value is trying to be set on a copy of a slice from a DataFrame.\n",
      "Try using .loc[row_indexer,col_indexer] = value instead\n",
      "\n",
      "See the caveats in the documentation: http://pandas.pydata.org/pandas-docs/stable/indexing.html#indexing-view-versus-copy\n",
      "/share/apps/python3/3.5.3/intel/lib/python3.5/site-packages/ipykernel/__main__.py:25: SettingWithCopyWarning: \n",
      "A value is trying to be set on a copy of a slice from a DataFrame.\n",
      "Try using .loc[row_indexer,col_indexer] = value instead\n",
      "\n",
      "See the caveats in the documentation: http://pandas.pydata.org/pandas-docs/stable/indexing.html#indexing-view-versus-copy\n"
     ]
    }
   ],
   "source": [
    "start_time = time.time()\n",
    "\n",
    "# set up\n",
    "df_modeling = merged_09[:1000] # 2x\n",
    "corpus = df_modeling.ABSTRACT\n",
    "\n",
    "# vectorize\n",
    "doc_term_matrix = my_vectorizer.fit_transform(corpus)\n",
    "doc_term_features = my_vectorizer.get_feature_names()\n",
    "\n",
    "# run LDA\n",
    "LDA = LatentDirichletAllocation(n_topics=50, random_state=1)  \n",
    "LDA.fit(doc_term_matrix)\n",
    "\n",
    "# initialize list for topics\n",
    "topicList = []\n",
    "for i,topic in enumerate(LDA.components_):\n",
    "    ithTopic = [doc_term_features[i] for i in topic.argsort()[-20:]]\n",
    "    topicList.append(ithTopic)\n",
    "topicListDf = pd.DataFrame(topicList)\n",
    "\n",
    "# matrix where each row is an abstract, each column a topic. Each cell is value of that topic for that abstract.\n",
    "topic_values = LDA.transform(doc_term_matrix)  \n",
    "df_modeling['primeTopicId'] = topic_values.argmax(axis=1)\n",
    "df_modeling['primeTopicValence'] = topic_values.max(axis=1)\n",
    "\n",
    "elapsed_time = time.time() - start_time\n",
    "print(time.strftime(\"%H:%M:%S\", time.gmtime(elapsed_time)))"
   ]
  },
  {
   "cell_type": "code",
   "execution_count": 9,
   "metadata": {
    "collapsed": false
   },
   "outputs": [
    {
     "name": "stderr",
     "output_type": "stream",
     "text": [
      "/share/apps/python3/3.5.3/intel/lib/python3.5/site-packages/sklearn/decomposition/online_lda.py:508: DeprecationWarning: The default value for 'learning_method' will be changed from 'online' to 'batch' in the release 0.20. This warning was introduced in 0.18.\n",
      "  DeprecationWarning)\n"
     ]
    },
    {
     "name": "stdout",
     "output_type": "stream",
     "text": [
      "00:01:19\n"
     ]
    },
    {
     "name": "stderr",
     "output_type": "stream",
     "text": [
      "/share/apps/python3/3.5.3/intel/lib/python3.5/site-packages/ipykernel/__main__.py:24: SettingWithCopyWarning: \n",
      "A value is trying to be set on a copy of a slice from a DataFrame.\n",
      "Try using .loc[row_indexer,col_indexer] = value instead\n",
      "\n",
      "See the caveats in the documentation: http://pandas.pydata.org/pandas-docs/stable/indexing.html#indexing-view-versus-copy\n",
      "/share/apps/python3/3.5.3/intel/lib/python3.5/site-packages/ipykernel/__main__.py:25: SettingWithCopyWarning: \n",
      "A value is trying to be set on a copy of a slice from a DataFrame.\n",
      "Try using .loc[row_indexer,col_indexer] = value instead\n",
      "\n",
      "See the caveats in the documentation: http://pandas.pydata.org/pandas-docs/stable/indexing.html#indexing-view-versus-copy\n"
     ]
    }
   ],
   "source": [
    "start_time = time.time()\n",
    "\n",
    "# set up\n",
    "df_modeling = merged_09[:5000] # 10x\n",
    "corpus = df_modeling.ABSTRACT\n",
    "\n",
    "# vectorize\n",
    "doc_term_matrix = my_vectorizer.fit_transform(corpus)\n",
    "doc_term_features = my_vectorizer.get_feature_names()\n",
    "\n",
    "# run LDA\n",
    "LDA = LatentDirichletAllocation(n_topics=50, random_state=1)  \n",
    "LDA.fit(doc_term_matrix)\n",
    "\n",
    "# initialize list for topics\n",
    "topicList = []\n",
    "for i,topic in enumerate(LDA.components_):\n",
    "    ithTopic = [doc_term_features[i] for i in topic.argsort()[-20:]]\n",
    "    topicList.append(ithTopic)\n",
    "topicListDf = pd.DataFrame(topicList)\n",
    "\n",
    "# matrix where each row is an abstract, each column a topic. Each cell is value of that topic for that abstract.\n",
    "topic_values = LDA.transform(doc_term_matrix)  \n",
    "df_modeling['primeTopicId'] = topic_values.argmax(axis=1)\n",
    "df_modeling['primeTopicValence'] = topic_values.max(axis=1)\n",
    "\n",
    "elapsed_time = time.time() - start_time\n",
    "print(time.strftime(\"%H:%M:%S\", time.gmtime(elapsed_time)))"
   ]
  },
  {
   "cell_type": "code",
   "execution_count": 10,
   "metadata": {
    "collapsed": false
   },
   "outputs": [
    {
     "name": "stderr",
     "output_type": "stream",
     "text": [
      "/share/apps/python3/3.5.3/intel/lib/python3.5/site-packages/sklearn/decomposition/online_lda.py:508: DeprecationWarning: The default value for 'learning_method' will be changed from 'online' to 'batch' in the release 0.20. This warning was introduced in 0.18.\n",
      "  DeprecationWarning)\n",
      "/share/apps/python3/3.5.3/intel/lib/python3.5/site-packages/ipykernel/__main__.py:24: SettingWithCopyWarning: \n",
      "A value is trying to be set on a copy of a slice from a DataFrame.\n",
      "Try using .loc[row_indexer,col_indexer] = value instead\n",
      "\n",
      "See the caveats in the documentation: http://pandas.pydata.org/pandas-docs/stable/indexing.html#indexing-view-versus-copy\n"
     ]
    },
    {
     "name": "stdout",
     "output_type": "stream",
     "text": [
      "00:13:19\n"
     ]
    },
    {
     "name": "stderr",
     "output_type": "stream",
     "text": [
      "/share/apps/python3/3.5.3/intel/lib/python3.5/site-packages/ipykernel/__main__.py:25: SettingWithCopyWarning: \n",
      "A value is trying to be set on a copy of a slice from a DataFrame.\n",
      "Try using .loc[row_indexer,col_indexer] = value instead\n",
      "\n",
      "See the caveats in the documentation: http://pandas.pydata.org/pandas-docs/stable/indexing.html#indexing-view-versus-copy\n"
     ]
    }
   ],
   "source": [
    "start_time = time.time()\n",
    "\n",
    "# set up\n",
    "df_modeling = merged_09[:50000] # 100x\n",
    "corpus = df_modeling.ABSTRACT\n",
    "\n",
    "# vectorize\n",
    "doc_term_matrix = my_vectorizer.fit_transform(corpus)\n",
    "doc_term_features = my_vectorizer.get_feature_names()\n",
    "\n",
    "# run LDA\n",
    "LDA = LatentDirichletAllocation(n_topics=50, random_state=1)  \n",
    "LDA.fit(doc_term_matrix)\n",
    "\n",
    "# initialize list for topics\n",
    "topicList = []\n",
    "for i,topic in enumerate(LDA.components_):\n",
    "    ithTopic = [doc_term_features[i] for i in topic.argsort()[-20:]]\n",
    "    topicList.append(ithTopic)\n",
    "topicListDf = pd.DataFrame(topicList)\n",
    "\n",
    "# matrix where each row is an abstract, each column a topic. Each cell is value of that topic for that abstract.\n",
    "topic_values = LDA.transform(doc_term_matrix)  \n",
    "df_modeling['primeTopicId'] = topic_values.argmax(axis=1)\n",
    "df_modeling['primeTopicValence'] = topic_values.max(axis=1)\n",
    "\n",
    "elapsed_time = time.time() - start_time\n",
    "print(time.strftime(\"%H:%M:%S\", time.gmtime(elapsed_time)))"
   ]
  },
  {
   "cell_type": "code",
   "execution_count": 11,
   "metadata": {
    "collapsed": false
   },
   "outputs": [
    {
     "name": "stdout",
     "output_type": "stream",
     "text": [
      "00:15:17\n"
     ]
    }
   ],
   "source": [
    "nb_elapsed_time = time.time() - nb_start_time\n",
    "print(time.strftime(\"%H:%M:%S\", time.gmtime(nb_elapsed_time)))"
   ]
  }
 ],
 "metadata": {
  "kernelspec": {
   "display_name": "Python 3",
   "language": "python",
   "name": "python3"
  },
  "language_info": {
   "codemirror_mode": {
    "name": "ipython",
    "version": 3
   },
   "file_extension": ".py",
   "mimetype": "text/x-python",
   "name": "python",
   "nbconvert_exporter": "python",
   "pygments_lexer": "ipython3",
   "version": "3.5.3"
  }
 },
 "nbformat": 4,
 "nbformat_minor": 2
}
